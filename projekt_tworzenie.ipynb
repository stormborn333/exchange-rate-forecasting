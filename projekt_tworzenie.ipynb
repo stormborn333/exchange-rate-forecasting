{
 "cells": [
  {
   "cell_type": "code",
   "execution_count": 1,
   "id": "e95357bd",
   "metadata": {},
   "outputs": [],
   "source": [
    "# System wspomagania decyzji inwestorskich\n",
    "# Paweł Kowalski"
   ]
  },
  {
   "cell_type": "code",
   "execution_count": 2,
   "id": "f238a02e",
   "metadata": {},
   "outputs": [],
   "source": [
    "# sprawdzenieczasu działania programu\n",
    "import time as tm\n",
    "start_time = tm.time()"
   ]
  },
  {
   "cell_type": "code",
   "execution_count": 3,
   "id": "1ba71328",
   "metadata": {},
   "outputs": [],
   "source": [
    "# import bibliotek\n",
    "import yfinance as yf\n",
    "from datetime import date\n",
    "import numpy as np\n",
    "import matplotlib.pyplot as plt\n",
    "import tensorflow as tf\n",
    "from sklearn.preprocessing import MinMaxScaler\n",
    "import seaborn as sns\n",
    "import matplotlib \n",
    "import sklearn  \n",
    "import statsmodels \n",
    "from statsmodels.tsa.seasonal import seasonal_decompose\n",
    "import matplotlib.dates as mdates\n",
    "from sklearn.linear_model import LinearRegression\n",
    "from plik_tickers import tickers "
   ]
  },
  {
   "cell_type": "code",
   "execution_count": 4,
   "id": "ed5a3072",
   "metadata": {},
   "outputs": [
    {
     "name": "stdout",
     "output_type": "stream",
     "text": [
      "Python: 3.9.13 (main, Aug 25 2022, 23:51:50) [MSC v.1916 64 bit (AMD64)]\n"
     ]
    }
   ],
   "source": [
    "# Sprawdzanie wersji Phytona\n",
    "import sys \n",
    "print(f\"Python: {sys.version}\")"
   ]
  },
  {
   "cell_type": "code",
   "execution_count": 5,
   "id": "b5219eeb",
   "metadata": {},
   "outputs": [
    {
     "name": "stdout",
     "output_type": "stream",
     "text": [
      "yfinance: 0.1.67\n",
      "numpy: 1.24.3\n",
      "matplotlib: 3.7.1\n",
      "tensorflow: 2.11.0\n",
      "scikit-learn: 1.2.2\n",
      "seaborn: 0.12.2\n",
      "statsmodels: 0.13.5\n"
     ]
    }
   ],
   "source": [
    "# Sprawdzanie wersji bibliotek\n",
    "print(f\"yfinance: {yf.__version__}\")\n",
    "print(f\"numpy: {np.__version__}\")\n",
    "print(f\"matplotlib: {matplotlib.__version__}\")\n",
    "print(f\"tensorflow: {tf.__version__}\")\n",
    "print(f\"scikit-learn: {sklearn.__version__}\")\n",
    "print(f\"seaborn: {sns.__version__}\")\n",
    "print(f\"statsmodels: {statsmodels.__version__}\")"
   ]
  },
  {
   "cell_type": "code",
   "execution_count": 6,
   "id": "b236180b",
   "metadata": {},
   "outputs": [],
   "source": [
    "# ustawienie ziarna i czyszczenie\n",
    "tf.keras.backend.clear_session()\n",
    "tf.random.set_seed(42)\n",
    "np.random.seed(42)"
   ]
  },
  {
   "cell_type": "code",
   "execution_count": 7,
   "id": "bd726691",
   "metadata": {},
   "outputs": [
    {
     "name": "stdout",
     "output_type": "stream",
     "text": [
      "Symbol: ES=F - Name: S&P 500\n",
      "Symbol: YM=F - Name: Mini Dow Jones Indus\n",
      "Symbol: NQ=F - Name: Nasdaq 100\n",
      "Symbol: RTY=F - Name: E-mini Russell 2000 Index Futur\n",
      "Symbol: ZB=F - Name: U.S. Treasury Bond Futures\n",
      "Symbol: ZN=F - Name: 10-Year T-Note Futures\n",
      "Symbol: ZF=F - Name: Five-Year US Treasury Note Futu\n",
      "Symbol: ZT=F - Name: 2-Year T-Note Futures\n",
      "Symbol: GC=F - Name: Gold\n",
      "Symbol: MGC=F - Name: Micro Gold Futures\n",
      "Symbol: SI=F - Name: Silver\n",
      "Symbol: PL=F - Name: Platinum\n",
      "Symbol: HG=F - Name: Copper\n",
      "Symbol: PA=F - Name: Palladium\n",
      "Symbol: CL=F - Name: Crude Oil\n",
      "Symbol: HO=F - Name: Heating Oil\n",
      "Symbol: NG=F - Name: Natural Gas\n",
      "Symbol: RB=F - Name: RBOB Gasoline\n",
      "Symbol: BZ=F - Name: Brent Crude Oil\n",
      "Symbol: B0=F - Name: Mont Belvieu LDH Propane\n",
      "Symbol: ZC=F - Name: Corn Futures, Dec-2024\n",
      "Symbol: ZO=F - Name: Oat Futures, Dec-2024\n",
      "Symbol: KE=F - Name: KC HRW Wheat Futures\n",
      "Symbol: ZR=F - Name: Rough Rice Futures, Sep-2024\n",
      "Symbol: ZM=F - Name: S&P Composite 1500 ESG Tilted I\n",
      "Symbol: ZL=F - Name: Soybean Oil Futures\n",
      "Symbol: ZS=F - Name: Soybean Futures\n",
      "Symbol: GF=F - Name: WisdomTree International High D\n",
      "Symbol: HE=F - Name: Lean Hogs Futures\n",
      "Symbol: LE=F - Name: Live Cattle Futures\n",
      "Symbol: CC=F - Name: Cocoa\n",
      "Symbol: KC=F - Name: Coffee\n",
      "Symbol: CT=F - Name: Cotton Oct 24\n",
      "Symbol: LBS=F - Name: Random Length Lumber Futures\n",
      "Symbol: OJ=F - Name: Orange Juice\n",
      "Symbol: SB=F - Name: Sugar\n"
     ]
    }
   ],
   "source": [
    "# wybór tickers'a , tu musi być np. lista rozwijana\n",
    "for symbol, name in tickers.items():\n",
    "    print(f\"Symbol: {symbol} - Name: {name}\")"
   ]
  },
  {
   "cell_type": "code",
   "execution_count": 8,
   "id": "059788ac",
   "metadata": {},
   "outputs": [
    {
     "name": "stdout",
     "output_type": "stream",
     "text": [
      "[*********************100%***********************]  1 of 1 completed\n",
      "(4197, 6)\n"
     ]
    }
   ],
   "source": [
    "# pobranie danych ze strony Yahoo (po testach wpisać np. rok  2000 !\n",
    "start = \"2004-01-01\"\n",
    "end = date.today().strftime(\"%Y-%m-%d\")\n",
    "ticker = \"BZ=F\" # możliwość wyboru np 10\n",
    "data = yf.download(ticker, start=start, end=end)\n",
    "print(data.shape)"
   ]
  },
  {
   "cell_type": "code",
   "execution_count": 9,
   "id": "cb19bd1f",
   "metadata": {},
   "outputs": [
    {
     "name": "stdout",
     "output_type": "stream",
     "text": [
      "<class 'pandas.core.frame.DataFrame'>\n",
      "DatetimeIndex: 4197 entries, 2007-07-30 to 2024-06-25\n",
      "Data columns (total 6 columns):\n",
      " #   Column     Non-Null Count  Dtype  \n",
      "---  ------     --------------  -----  \n",
      " 0   Open       4197 non-null   float64\n",
      " 1   High       4197 non-null   float64\n",
      " 2   Low        4197 non-null   float64\n",
      " 3   Close      4197 non-null   float64\n",
      " 4   Adj Close  4197 non-null   float64\n",
      " 5   Volume     4197 non-null   int64  \n",
      "dtypes: float64(5), int64(1)\n",
      "memory usage: 229.5 KB\n",
      "None\n",
      "              Open         High          Low        Close    Adj Close  \\\n",
      "count  4197.000000  4197.000000  4197.000000  4197.000000  4197.000000   \n",
      "mean     78.716612    79.680217    77.699061    78.720000    78.720000   \n",
      "std      24.676631    24.794818    24.546994    24.694999    24.694999   \n",
      "min      19.559999    21.270000    16.000000    19.330000    19.330000   \n",
      "25%      59.200001    60.240002    58.349998    59.270000    59.270000   \n",
      "50%      76.879997    77.790001    75.830002    77.050003    77.050003   \n",
      "75%     101.629997   102.820000   100.290001   101.599998   101.599998   \n",
      "max     146.080002   147.429993   144.270004   146.080002   146.080002   \n",
      "\n",
      "             Volume  \n",
      "count   4197.000000  \n",
      "mean   17578.286157  \n",
      "std    16191.490023  \n",
      "min        0.000000  \n",
      "25%     1140.000000  \n",
      "50%    16815.000000  \n",
      "75%    30144.000000  \n",
      "max    87185.000000  \n",
      "head                  Open       High        Low      Close  Adj Close  Volume\n",
      "Date                                                                     \n",
      "2007-07-30  75.849998  76.529999  75.440002  75.739998  75.739998    2575\n",
      "2007-07-31  75.699997  77.169998  75.669998  77.050003  77.050003    3513\n",
      "2007-08-01  77.000000  77.059998  74.860001  75.349998  75.349998    3930\n",
      "2007-08-02  75.220001  76.209999  74.269997  75.760002  75.760002    6180\n",
      "2007-08-03  75.389999  76.000000  74.529999  74.750000  74.750000    4387\n",
      "tail                  Open       High        Low      Close  Adj Close  Volume\n",
      "Date                                                                     \n",
      "2024-06-18  84.400002  85.480003  83.660004  85.330002  85.330002   45690\n",
      "2024-06-20  85.379997  85.970001  84.889999  85.709999  85.709999   52543\n",
      "2024-06-21  85.680000  86.230003  84.839996  85.239998  85.239998   25055\n",
      "2024-06-24  85.089996  86.169998  84.730003  86.010002  86.010002   28043\n",
      "2024-06-25  86.150002  86.320000  84.760002  85.010002  85.010002   28043\n",
      "<class 'pandas.core.frame.DataFrame'>\n"
     ]
    }
   ],
   "source": [
    "# Kontrola jakości danych\n",
    "print(data.info())\n",
    "print(data.describe())\n",
    "print('head', data.head(5))\n",
    "print('tail', data.tail(5))\n",
    "print(type(data))"
   ]
  }
 ],
 "metadata": {
  "kernelspec": {
   "display_name": "Python 3 (ipykernel)",
   "language": "python",
   "name": "python3"
  },
  "language_info": {
   "codemirror_mode": {
    "name": "ipython",
    "version": 3
   },
   "file_extension": ".py",
   "mimetype": "text/x-python",
   "name": "python",
   "nbconvert_exporter": "python",
   "pygments_lexer": "ipython3",
   "version": "3.9.13"
  }
 },
 "nbformat": 4,
 "nbformat_minor": 5
}
