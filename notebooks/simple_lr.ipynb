{
 "cells": [
  {
   "cell_type": "markdown",
   "metadata": {},
   "source": [
    "Notebook utilized for creating simple linear regression model for testing application created using Dash"
   ]
  },
  {
   "cell_type": "code",
   "execution_count": 24,
   "metadata": {},
   "outputs": [],
   "source": [
    "#importing all the necessary modules\n",
    "import numpy as np\n",
    "from sklearn.linear_model import LinearRegression\n",
    "import pandas as pd\n",
    "import pickle\n",
    "import os"
   ]
  },
  {
   "cell_type": "code",
   "execution_count": 26,
   "metadata": {},
   "outputs": [],
   "source": [
    "#example data\n",
    "X = np.arange(1,101)\n",
    "y = np.arange(3.00, 3.00 + 100 * 0.01, 0.01)\n",
    "\n",
    "#creating and training linear regression model\n",
    "lr_model = LinearRegression()\n",
    "lr_model.fit(X.reshape(-1, 1),y)\n",
    "\n",
    "#saving model in models folder\n",
    "model_name = 'lr_model.pkl'\n",
    "folder_dir = os.getcwd()\n",
    "model_dir = folder_dir.replace(\"notebooks\", \"models\") + \"/\" + model_name\n",
    "with open(model_dir, 'wb') as f:\n",
    "    pickle.dump(lr_model, f)"
   ]
  },
  {
   "cell_type": "code",
   "execution_count": 27,
   "metadata": {},
   "outputs": [],
   "source": [
    "#saving training data to csv file\n",
    "df = pd.DataFrame({'X': X,\n",
    "                     'y': y})\n",
    "df_name = \"lr_data.csv\"\n",
    "df_dir = folder_dir.replace(\"notebooks\", \"data-utils/data-raw\") + \"/\" + df_name\n",
    "df.to_csv(df_dir, index = False)"
   ]
  }
 ],
 "metadata": {
  "kernelspec": {
   "display_name": "venv",
   "language": "python",
   "name": "python3"
  },
  "language_info": {
   "codemirror_mode": {
    "name": "ipython",
    "version": 3
   },
   "file_extension": ".py",
   "mimetype": "text/x-python",
   "name": "python",
   "nbconvert_exporter": "python",
   "pygments_lexer": "ipython3",
   "version": "3.9.6"
  }
 },
 "nbformat": 4,
 "nbformat_minor": 2
}
